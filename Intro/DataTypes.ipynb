{
 "cells": [
  {
   "cell_type": "markdown",
   "metadata": {},
   "source": [
    "### Following are Basic datatypes in which data is stored in Python\n",
    "1. Integer\n",
    "2. Float\n",
    "3. Boolean\n",
    "4. Complex\n",
    "5. String\n",
    "6. List\n",
    "7. Tuples\n",
    "8. Dictonaries\n",
    "9. Sets\n"
   ]
  },
  {
   "cell_type": "code",
   "execution_count": 6,
   "metadata": {},
   "outputs": [
    {
     "data": {
      "text/plain": [
       "int"
      ]
     },
     "execution_count": 6,
     "metadata": {},
     "output_type": "execute_result"
    }
   ],
   "source": [
    "# Any real number without fraction\n",
    "a=99999\n",
    "type(a)"
   ]
  },
  {
   "cell_type": "code",
   "execution_count": 7,
   "metadata": {},
   "outputs": [
    {
     "data": {
      "text/plain": [
       "float"
      ]
     },
     "execution_count": 7,
     "metadata": {},
     "output_type": "execute_result"
    }
   ],
   "source": [
    "#Real number containing fractional part\n",
    "a=9999.0\n",
    "type(a)"
   ]
  },
  {
   "cell_type": "code",
   "execution_count": 8,
   "metadata": {},
   "outputs": [
    {
     "data": {
      "text/plain": [
       "bool"
      ]
     },
     "execution_count": 8,
     "metadata": {},
     "output_type": "execute_result"
    }
   ],
   "source": [
    "# True or False are considered as boolean variables\n",
    "a=True\n",
    "type(a)"
   ]
  },
  {
   "cell_type": "code",
   "execution_count": 33,
   "metadata": {},
   "outputs": [
    {
     "name": "stdout",
     "output_type": "stream",
     "text": [
      "<class 'complex'> 5.0 6.0\n"
     ]
    }
   ],
   "source": [
    "# complex\n",
    "# to retrieve real part \n",
    "a=5+6j\n",
    "print(type(a), a.real, a.imag)"
   ]
  },
  {
   "cell_type": "code",
   "execution_count": 12,
   "metadata": {},
   "outputs": [
    {
     "name": "stdout",
     "output_type": "stream",
     "text": [
      "<class 'str'> <class 'str'> <class 'str'>\n"
     ]
    }
   ],
   "source": [
    "# Strings are collection of ASCII characters. Which can be enclosed in Single or double or triple quotes\n",
    "## We can perform slicing on strings. can overwrite existing value but cannot update character at a particular location\n",
    "str1 = 'Hi'\n",
    "str2 = \"Hello\"\n",
    "str3 = '''How are you'''\n",
    "print(type(str1), type(str2), type(str3))"
   ]
  },
  {
   "cell_type": "code",
   "execution_count": 15,
   "metadata": {},
   "outputs": [
    {
     "data": {
      "text/plain": [
       "'w'"
      ]
     },
     "execution_count": 15,
     "metadata": {},
     "output_type": "execute_result"
    }
   ],
   "source": [
    "#string slicing can be done by specifying the index/position. Index starts from 0\n",
    "# extracting a character at position 3 can be done using index 2 as index starts from 0\n",
    "str3[2]"
   ]
  },
  {
   "cell_type": "code",
   "execution_count": 22,
   "metadata": {},
   "outputs": [
    {
     "name": "stdout",
     "output_type": "stream",
     "text": [
      "index of 'o' in str2 is:4\n",
      "index of 'a' in str3 is:4\n",
      "index of 'e' in str3 is:6\n"
     ]
    }
   ],
   "source": [
    "# \"find\" can be used to identify index of a particular character\n",
    "print(\"index of 'o' in str2 is:\"+str(str2.index('o'))+\"\\n\"+ \"index of 'a' in str3 is:\"+str(str3.index('a'))  +\"\\n\"+\"index of 'e' in str3 is:\"+ str(str3.index('e')))\n"
   ]
  },
  {
   "cell_type": "code",
   "execution_count": 23,
   "metadata": {},
   "outputs": [
    {
     "data": {
      "text/plain": [
       "'are'"
      ]
     },
     "execution_count": 23,
     "metadata": {},
     "output_type": "execute_result"
    }
   ],
   "source": [
    "# To retrieve consecutive characters\n",
    "# can be done by specifying start of index and end. separated by colon \":\". start inclusive and end is exclusive\n",
    "# from str3 \"are\" can be retrived by specifying the index of \"a\" (4) and index of \"e\" + 1 (6+1) =(7)\n",
    "# \n",
    "str3[4:7]"
   ]
  },
  {
   "cell_type": "code",
   "execution_count": 24,
   "metadata": {},
   "outputs": [],
   "source": [
    "# List\n",
    "# Collection of homogenous or heterogenous elements\n",
    "# Lists are mutable => we can update elements of a list\n",
    "# list is created using []\n",
    "l1=[1,'a',True,2+5j]"
   ]
  },
  {
   "cell_type": "code",
   "execution_count": 26,
   "metadata": {},
   "outputs": [
    {
     "name": "stdout",
     "output_type": "stream",
     "text": [
      "<class 'list'>\n",
      "(2+5j) <class 'complex'>\n"
     ]
    }
   ],
   "source": [
    "print(type(l1))\n",
    "#getting elements of a list\n",
    "print(l1[3], type(l1[3]))"
   ]
  },
  {
   "cell_type": "code",
   "execution_count": 35,
   "metadata": {},
   "outputs": [
    {
     "name": "stdout",
     "output_type": "stream",
     "text": [
      "[1, 'a', True, (2+5j), 'Element addition']\n"
     ]
    }
   ],
   "source": [
    "#adding elements to a list\n",
    "l1.append('Element addition')\n",
    "print(l1)"
   ]
  },
  {
   "cell_type": "code",
   "execution_count": 36,
   "metadata": {},
   "outputs": [
    {
     "name": "stdout",
     "output_type": "stream",
     "text": [
      "[1, 'a', True, (2+5j)]\n"
     ]
    }
   ],
   "source": [
    "#deleting element\n",
    "l1.pop()\n",
    "print(l1)"
   ]
  },
  {
   "cell_type": "code",
   "execution_count": null,
   "metadata": {},
   "outputs": [],
   "source": []
  }
 ],
 "metadata": {
  "kernelspec": {
   "display_name": "Python 3",
   "language": "python",
   "name": "python3"
  },
  "language_info": {
   "codemirror_mode": {
    "name": "ipython",
    "version": 3
   },
   "file_extension": ".py",
   "mimetype": "text/x-python",
   "name": "python",
   "nbconvert_exporter": "python",
   "pygments_lexer": "ipython3",
   "version": "3.7.6"
  }
 },
 "nbformat": 4,
 "nbformat_minor": 4
}
