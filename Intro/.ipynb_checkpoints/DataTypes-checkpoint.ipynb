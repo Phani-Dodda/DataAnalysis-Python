{
 "cells": [
  {
   "cell_type": "markdown",
   "metadata": {},
   "source": [
    "### Following are Basic datatypes in which data is stored in Pyton\n",
    "1. Integer\n",
    "2. Float\n",
    "3. Boolean\n",
    "4. String\n",
    "5. List\n",
    "6. Tuples\n",
    "7. Dictonaries\n",
    "8. Sets"
   ]
  },
  {
   "cell_type": "code",
   "execution_count": 6,
   "metadata": {},
   "outputs": [
    {
     "data": {
      "text/plain": [
       "int"
      ]
     },
     "execution_count": 6,
     "metadata": {},
     "output_type": "execute_result"
    }
   ],
   "source": [
    "# Any real number without fraction\n",
    "a=99999\n",
    "type(a)"
   ]
  },
  {
   "cell_type": "code",
   "execution_count": 7,
   "metadata": {},
   "outputs": [
    {
     "data": {
      "text/plain": [
       "float"
      ]
     },
     "execution_count": 7,
     "metadata": {},
     "output_type": "execute_result"
    }
   ],
   "source": [
    "#Real number containing fractional part\n",
    "a=9999.0\n",
    "type(a)"
   ]
  },
  {
   "cell_type": "code",
   "execution_count": 8,
   "metadata": {},
   "outputs": [
    {
     "data": {
      "text/plain": [
       "bool"
      ]
     },
     "execution_count": 8,
     "metadata": {},
     "output_type": "execute_result"
    }
   ],
   "source": [
    "# True or False are considered as boolean variables\n",
    "a=True\n",
    "type(a)"
   ]
  },
  {
   "cell_type": "code",
   "execution_count": 12,
   "metadata": {},
   "outputs": [
    {
     "name": "stdout",
     "output_type": "stream",
     "text": [
      "<class 'str'> <class 'str'> <class 'str'>\n"
     ]
    }
   ],
   "source": [
    "# Strings are collection of ASCII characters. Which can be enclosed in Single or double or triple quotes\n",
    "## We can perform slicing on strings. can overwrite existing value but cannot update character at a particular location\n",
    "str1 = 'Hi'\n",
    "str2 = \"Hello\"\n",
    "str3 = '''How are you'''\n",
    "print(type(str1), type(str2), type(str3))"
   ]
  },
  {
   "cell_type": "code",
   "execution_count": 15,
   "metadata": {},
   "outputs": [
    {
     "data": {
      "text/plain": [
       "'w'"
      ]
     },
     "execution_count": 15,
     "metadata": {},
     "output_type": "execute_result"
    }
   ],
   "source": [
    "#string slicing can be done by specifying the index/position. Index starts from 0\n",
    "# extracting a character at position 3 can be done using index 2 as index starts from 0\n",
    "str3[2]"
   ]
  },
  {
   "cell_type": "code",
   "execution_count": 22,
   "metadata": {},
   "outputs": [
    {
     "name": "stdout",
     "output_type": "stream",
     "text": [
      "index of 'o' in str2 is:4\n",
      "index of 'a' in str3 is:4\n",
      "index of 'e' in str3 is:6\n"
     ]
    }
   ],
   "source": [
    "# \"find\" can be used to identify index of a particular character\n",
    "print(\"index of 'o' in str2 is:\"+str(str2.index('o'))+\"\\n\"+ \"index of 'a' in str3 is:\"+str(str3.index('a'))  +\"\\n\"+\"index of 'e' in str3 is:\"+ str(str3.index('e')))\n"
   ]
  },
  {
   "cell_type": "code",
   "execution_count": 23,
   "metadata": {},
   "outputs": [
    {
     "data": {
      "text/plain": [
       "'are'"
      ]
     },
     "execution_count": 23,
     "metadata": {},
     "output_type": "execute_result"
    }
   ],
   "source": [
    "# To retrieve consecutive characters\n",
    "# can be done by specifying start of index and end. separated by colon \":\". start inclusive and end is exclusive\n",
    "# from str3 \"are\" can be retrived by specifying the index of \"a\" (4) and index of \"e\" + 1 (6+1) =(7)\n",
    "# \n",
    "str3[4:7]"
   ]
  },
  {
   "cell_type": "code",
   "execution_count": null,
   "metadata": {},
   "outputs": [],
   "source": []
  },
  {
   "cell_type": "code",
   "execution_count": null,
   "metadata": {},
   "outputs": [],
   "source": []
  }
 ],
 "metadata": {
  "kernelspec": {
   "display_name": "Python 3",
   "language": "python",
   "name": "python3"
  },
  "language_info": {
   "codemirror_mode": {
    "name": "ipython",
    "version": 3
   },
   "file_extension": ".py",
   "mimetype": "text/x-python",
   "name": "python",
   "nbconvert_exporter": "python",
   "pygments_lexer": "ipython3",
   "version": "3.7.6"
  }
 },
 "nbformat": 4,
 "nbformat_minor": 4
}
